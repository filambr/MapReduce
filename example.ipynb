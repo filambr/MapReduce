{
 "cells": [
  {
   "attachments": {},
   "cell_type": "markdown",
   "metadata": {},
   "source": [
    "#### Import dependencies."
   ]
  },
  {
   "cell_type": "code",
   "execution_count": 1,
   "metadata": {},
   "outputs": [],
   "source": [
    "from table import Table, MapReduce"
   ]
  },
  {
   "attachments": {},
   "cell_type": "markdown",
   "metadata": {},
   "source": [
    "## Task 1 \n",
    "Having in mind data/clicks dataset with \"date\" column, count how many clicks there were for each date and write the results to data/total_clicks dataset with \"date\" and \"count\" columns."
   ]
  },
  {
   "attachments": {},
   "cell_type": "markdown",
   "metadata": {},
   "source": [
    "1. Let's read data into a table."
   ]
  },
  {
   "cell_type": "code",
   "execution_count": 18,
   "metadata": {},
   "outputs": [
    {
     "name": "stdout",
     "output_type": "stream",
     "text": [
      "{'date': '2017-12-20', 'user_id': 3, 'click_target': 'ad'}\n",
      "{'date': '2017-12-19', 'user_id': 3, 'click_target': 'ad'}\n",
      "{'date': '2017-12-21', 'user_id': 3, 'click_target': 'profile'}\n",
      "{'date': '2017-12-10', 'user_id': 7, 'click_target': 'ad'}\n",
      "{'date': '2017-12-12', 'user_id': 3, 'click_target': 'ad'}\n"
     ]
    }
   ],
   "source": [
    "number_of_nodes = 1\n",
    "path1 = '/home/filambr/Documents/vinted_homework/data/clicks/'\n",
    "schema1 = {'date':str, 'user_id':int, 'click_target':str}\n",
    "# if file that is being read does not have key specified in the schema 'Nan' will apear in the table\n",
    "# if file has other keys that are not specified in the shcema, they will be omited \n",
    "table1 = Table(folder_path = path1, schema = schema1, number_of_nodes = number_of_nodes) \n",
    "table1.show()"
   ]
  },
  {
   "attachments": {},
   "cell_type": "markdown",
   "metadata": {},
   "source": [
    "2. Let's apply count_grouped_by method."
   ]
  },
  {
   "cell_type": "code",
   "execution_count": 19,
   "metadata": {},
   "outputs": [
    {
     "name": "stdout",
     "output_type": "stream",
     "text": [
      "{'date': '2017-12-20', 'daily_clicks': 13}\n",
      "{'date': '2017-12-19', 'daily_clicks': 8}\n",
      "{'date': '2017-12-21', 'daily_clicks': 7}\n",
      "{'date': '2017-12-10', 'daily_clicks': 4}\n",
      "{'date': '2017-12-12', 'daily_clicks': 12}\n",
      "{'date': '2017-12-17', 'daily_clicks': 12}\n",
      "{'date': '2017-12-13', 'daily_clicks': 9}\n",
      "{'date': '2017-12-14', 'daily_clicks': 10}\n",
      "{'date': '2017-12-16', 'daily_clicks': 10}\n",
      "{'date': '2017-12-11', 'daily_clicks': 4}\n",
      "{'date': '2017-12-15', 'daily_clicks': 6}\n",
      "{'date': '2017-12-18', 'daily_clicks': 5}\n"
     ]
    }
   ],
   "source": [
    "daily_click = table1.count_groupe_by('date','click_target','daily_clicks')\n",
    "daily_click.show(1000) # Big number is entered to show all the results since talbe isn't to big"
   ]
  },
  {
   "attachments": {},
   "cell_type": "markdown",
   "metadata": {},
   "source": [
    "Count_groupe_by method is implemented using MapReduce as follows:"
   ]
  },
  {
   "cell_type": "code",
   "execution_count": 20,
   "metadata": {},
   "outputs": [
    {
     "name": "stdout",
     "output_type": "stream",
     "text": [
      "{'data': '2017-12-20', 'daily_clicks': 13}\n",
      "{'data': '2017-12-19', 'daily_clicks': 8}\n",
      "{'data': '2017-12-21', 'daily_clicks': 7}\n",
      "{'data': '2017-12-10', 'daily_clicks': 4}\n",
      "{'data': '2017-12-12', 'daily_clicks': 12}\n",
      "{'data': '2017-12-17', 'daily_clicks': 12}\n",
      "{'data': '2017-12-13', 'daily_clicks': 9}\n",
      "{'data': '2017-12-14', 'daily_clicks': 10}\n",
      "{'data': '2017-12-16', 'daily_clicks': 10}\n",
      "{'data': '2017-12-11', 'daily_clicks': 4}\n",
      "{'data': '2017-12-15', 'daily_clicks': 6}\n",
      "{'data': '2017-12-18', 'daily_clicks': 5}\n"
     ]
    }
   ],
   "source": [
    "mapreduce = MapReduce(number_of_nodes)\n",
    "mapped = mapreduce.mapper(table1.data, key = 'date')\n",
    "counted = mapreduce.counter_grouped(mapped, 'data', 'count_target', 'daily_clicks')\n",
    "for row in counted:\n",
    "    print(row)"
   ]
  },
  {
   "attachments": {},
   "cell_type": "markdown",
   "metadata": {},
   "source": [
    "#### ! Keep in mind that count_group_by counts entries, so it will also count 'None' as an entry, while agg_group_by will return an error, so None values should be removed prior to aggregation.\n",
    "* Example of how to use agg_group_by is shown below"
   ]
  },
  {
   "cell_type": "code",
   "execution_count": 5,
   "metadata": {},
   "outputs": [
    {
     "name": "stdout",
     "output_type": "stream",
     "text": [
      "{'date': '2017-12-20', 'sum_of_id_daily': 58}\n",
      "{'date': '2017-12-19', 'sum_of_id_daily': 39}\n",
      "{'date': '2017-12-21', 'sum_of_id_daily': 26}\n",
      "{'date': '2017-12-10', 'sum_of_id_daily': 27}\n",
      "{'date': '2017-12-12', 'sum_of_id_daily': 39}\n",
      "{'date': '2017-12-17', 'sum_of_id_daily': 42}\n",
      "{'date': '2017-12-13', 'sum_of_id_daily': 39}\n",
      "{'date': '2017-12-14', 'sum_of_id_daily': 49}\n",
      "{'date': '2017-12-16', 'sum_of_id_daily': 48}\n",
      "{'date': '2017-12-11', 'sum_of_id_daily': 11}\n",
      "{'date': '2017-12-15', 'sum_of_id_daily': 27}\n",
      "{'date': '2017-12-18', 'sum_of_id_daily': 18}\n",
      "__________________________\n",
      "{'data': '2017-12-20', 'sum_of_id_daily': 58}\n",
      "{'data': '2017-12-19', 'sum_of_id_daily': 39}\n",
      "{'data': '2017-12-21', 'sum_of_id_daily': 26}\n",
      "{'data': '2017-12-10', 'sum_of_id_daily': 27}\n",
      "{'data': '2017-12-12', 'sum_of_id_daily': 39}\n",
      "{'data': '2017-12-17', 'sum_of_id_daily': 42}\n",
      "{'data': '2017-12-13', 'sum_of_id_daily': 39}\n",
      "{'data': '2017-12-14', 'sum_of_id_daily': 49}\n",
      "{'data': '2017-12-16', 'sum_of_id_daily': 48}\n",
      "{'data': '2017-12-11', 'sum_of_id_daily': 11}\n",
      "{'data': '2017-12-15', 'sum_of_id_daily': 27}\n",
      "{'data': '2017-12-18', 'sum_of_id_daily': 18}\n"
     ]
    }
   ],
   "source": [
    "nonsence_table = table1.agg_groupe_by(key='date',value='user_id',alias='sum_of_id_daily', agg_type='sum') # sum, min and max agg_type are supported\n",
    "nonsence_table.show(1000) # Big number is entered to show all the results since talbe isn't to big\n",
    "\n",
    "\n",
    "print('__________________________')\n",
    "mapreduce = MapReduce(number_of_nodes)\n",
    "mapped = mapreduce.mapper(table1.data, key = 'date')\n",
    "aggregated = mapreduce.aggregate_grouped(mapped, 'data', 'user_id', 'sum_of_id_daily', 'sum')\n",
    "for row in aggregated:\n",
    "    print(row)"
   ]
  },
  {
   "attachments": {},
   "cell_type": "markdown",
   "metadata": {},
   "source": [
    "3. Let's write final table a file in data/total_clicks."
   ]
  },
  {
   "cell_type": "code",
   "execution_count": 21,
   "metadata": {},
   "outputs": [],
   "source": [
    "path_out = 'data/total_clicks/part-001.csv'\n",
    "daily_click.write_to_csv(path_out) "
   ]
  },
  {
   "attachments": {},
   "cell_type": "markdown",
   "metadata": {},
   "source": [
    "## Task 2  \n",
    "\n",
    "There are two datasets:\n",
    "\n",
    "* data/users dataset with columns \"id\" and \"country\"\n",
    "* data/clicks dataset with columns \"date\", \"user_id\" and \"click_target\"\n",
    "\n",
    "We'd like to produce a new dataset called data/filtered_clicks that includes only those clicks that belong to users from Lithuania (country=LT)."
   ]
  },
  {
   "attachments": {},
   "cell_type": "markdown",
   "metadata": {},
   "source": [
    "1. As before lets read data into a Tables."
   ]
  },
  {
   "cell_type": "code",
   "execution_count": 23,
   "metadata": {},
   "outputs": [
    {
     "name": "stdout",
     "output_type": "stream",
     "text": [
      "Table from /home/filambr/Documents/vinted_homework/data/clicks/\n",
      "{'date': '2017-12-20', 'user_id': 3, 'click_target': 'ad'}\n",
      "{'date': '2017-12-19', 'user_id': 3, 'click_target': 'ad'}\n",
      "{'date': '2017-12-21', 'user_id': 3, 'click_target': 'profile'}\n",
      "{'date': '2017-12-10', 'user_id': 7, 'click_target': 'ad'}\n",
      "{'date': '2017-12-12', 'user_id': 3, 'click_target': 'ad'}\n",
      "Table from /home/filambr/Documents/vinted_homework/data/users/\n",
      "{'id': 4, 'city': 'Vilnius', 'country': 'LT'}\n",
      "{'id': 5, 'city': 'Berlin', 'country': 'DE'}\n",
      "{'id': 6, 'city': 'Munich', 'country': 'DE'}\n",
      "{'id': 101, 'city': 'Hamburg', 'country': 'DE'}\n",
      "{'id': 102, 'city': 'Kaunas', 'country': 'LT'}\n"
     ]
    }
   ],
   "source": [
    "number_of_nodes = 2\n",
    "\n",
    "path1 = '/home/filambr/Documents/vinted_homework/data/clicks/'\n",
    "schema1 = {'date':str, 'user_id':int, 'click_target':str}\n",
    "table1 = Table(folder_path = path1, schema = schema1,  number_of_nodes=number_of_nodes) \n",
    "print(f'Table from {path1}')\n",
    "table1.show()\n",
    "\n",
    "path2 = '/home/filambr/Documents/vinted_homework/data/users/'\n",
    "schema2 = {'id': int, 'city':str,'country': str}\n",
    "table2 = Table(folder_path = path2, schema = schema2, number_of_nodes=number_of_nodes) \n",
    "print(f'Table from {path2}')\n",
    "table2.show()"
   ]
  },
  {
   "attachments": {},
   "cell_type": "markdown",
   "metadata": {},
   "source": [
    "2. Lets join tables on 'user_id' and 'id'"
   ]
  },
  {
   "cell_type": "code",
   "execution_count": 24,
   "metadata": {},
   "outputs": [
    {
     "name": "stdout",
     "output_type": "stream",
     "text": [
      "{'date': '2017-12-20', 'user_id': 3, 'click_target': 'ad', 'id': 3, 'city': 'None', 'country': 'LT'}\n",
      "{'date': '2017-12-19', 'user_id': 3, 'click_target': 'ad', 'id': 3, 'city': 'None', 'country': 'LT'}\n",
      "{'date': '2017-12-21', 'user_id': 3, 'click_target': 'profile', 'id': 3, 'city': 'None', 'country': 'LT'}\n",
      "{'date': '2017-12-12', 'user_id': 3, 'click_target': 'ad', 'id': 3, 'city': 'None', 'country': 'LT'}\n",
      "{'date': '2017-12-17', 'user_id': 3, 'click_target': 'item', 'id': 3, 'city': 'None', 'country': 'LT'}\n"
     ]
    }
   ],
   "source": [
    "joined_table = table1.join(table2, 'user_id', 'id')\n",
    "joined_table.show()"
   ]
  },
  {
   "attachments": {},
   "cell_type": "markdown",
   "metadata": {},
   "source": [
    "Join method is implemented using MapReduce like this:"
   ]
  },
  {
   "cell_type": "code",
   "execution_count": 9,
   "metadata": {},
   "outputs": [
    {
     "name": "stdout",
     "output_type": "stream",
     "text": [
      "{'date': '2017-12-20', 'user_id': 3, 'click_target': 'ad', 'id': 3, 'city': 'None', 'country': 'LT'}\n",
      "{'date': '2017-12-19', 'user_id': 3, 'click_target': 'ad', 'id': 3, 'city': 'None', 'country': 'LT'}\n",
      "{'date': '2017-12-21', 'user_id': 3, 'click_target': 'profile', 'id': 3, 'city': 'None', 'country': 'LT'}\n",
      "{'date': '2017-12-12', 'user_id': 3, 'click_target': 'ad', 'id': 3, 'city': 'None', 'country': 'LT'}\n",
      "{'date': '2017-12-17', 'user_id': 3, 'click_target': 'item', 'id': 3, 'city': 'None', 'country': 'LT'}\n"
     ]
    }
   ],
   "source": [
    "mapreduce = MapReduce(2)\n",
    "mapped_self = mapreduce.mapper(table1.data, 'user_id')\n",
    "mapped_other = mapreduce.mapper(table2.data, 'id')\n",
    "joined = mapreduce.join(mapped_self , mapped_other)\n",
    "\n",
    "for i in range(5):\n",
    "    print(joined[i])"
   ]
  },
  {
   "attachments": {},
   "cell_type": "markdown",
   "metadata": {},
   "source": [
    "3. Since we are only interested in clicks from Lithuanian ('LT') users lets apply a filter method to isolate 'LT' users."
   ]
  },
  {
   "cell_type": "code",
   "execution_count": 10,
   "metadata": {},
   "outputs": [
    {
     "name": "stdout",
     "output_type": "stream",
     "text": [
      "{'date': '2017-12-20', 'user_id': 3, 'click_target': 'ad', 'id': 3, 'city': 'None', 'country': 'LT'}\n",
      "{'date': '2017-12-19', 'user_id': 3, 'click_target': 'ad', 'id': 3, 'city': 'None', 'country': 'LT'}\n",
      "{'date': '2017-12-21', 'user_id': 3, 'click_target': 'profile', 'id': 3, 'city': 'None', 'country': 'LT'}\n",
      "{'date': '2017-12-12', 'user_id': 3, 'click_target': 'ad', 'id': 3, 'city': 'None', 'country': 'LT'}\n",
      "{'date': '2017-12-17', 'user_id': 3, 'click_target': 'item', 'id': 3, 'city': 'None', 'country': 'LT'}\n"
     ]
    }
   ],
   "source": [
    "filttered_table = joined_table.filter('country', 'LT')\n",
    "filttered_table.show()"
   ]
  },
  {
   "attachments": {},
   "cell_type": "markdown",
   "metadata": {},
   "source": [
    "Method filter is implemented using MapReduce like this:"
   ]
  },
  {
   "cell_type": "code",
   "execution_count": 11,
   "metadata": {},
   "outputs": [
    {
     "name": "stdout",
     "output_type": "stream",
     "text": [
      "{'date': '2017-12-20', 'user_id': 3, 'click_target': 'ad', 'id': 3, 'city': 'None', 'country': 'LT'}\n",
      "{'date': '2017-12-19', 'user_id': 3, 'click_target': 'ad', 'id': 3, 'city': 'None', 'country': 'LT'}\n",
      "{'date': '2017-12-21', 'user_id': 3, 'click_target': 'profile', 'id': 3, 'city': 'None', 'country': 'LT'}\n",
      "{'date': '2017-12-12', 'user_id': 3, 'click_target': 'ad', 'id': 3, 'city': 'None', 'country': 'LT'}\n",
      "{'date': '2017-12-17', 'user_id': 3, 'click_target': 'item', 'id': 3, 'city': 'None', 'country': 'LT'}\n"
     ]
    }
   ],
   "source": [
    "mapreduce = MapReduce(2)\n",
    "mapped = mapreduce.mapper(joined_table.data, 'country')\n",
    "filtered = mapreduce.filter('LT', mapped)\n",
    "for i in range(5):\n",
    "    print(filtered[i])"
   ]
  },
  {
   "attachments": {},
   "cell_type": "markdown",
   "metadata": {},
   "source": [
    "To avoid getting unnecessary columns in the final table use Select and/or Drop method like shown below."
   ]
  },
  {
   "cell_type": "code",
   "execution_count": 25,
   "metadata": {},
   "outputs": [
    {
     "name": "stdout",
     "output_type": "stream",
     "text": [
      "{'date': '2017-12-20', 'user_id': 3, 'click_target': 'ad', 'country': 'LT'}\n",
      "{'date': '2017-12-19', 'user_id': 3, 'click_target': 'ad', 'country': 'LT'}\n",
      "{'date': '2017-12-21', 'user_id': 3, 'click_target': 'profile', 'country': 'LT'}\n",
      "{'date': '2017-12-12', 'user_id': 3, 'click_target': 'ad', 'country': 'LT'}\n",
      "{'date': '2017-12-17', 'user_id': 3, 'click_target': 'item', 'country': 'LT'}\n"
     ]
    }
   ],
   "source": [
    "number_of_nodes = 2\n",
    "path1 = '/home/filambr/Documents/vinted_homework/data/clicks/'\n",
    "schema1 = {'date':str, 'user_id':int, 'click_target':str}\n",
    "table1 = Table(folder_path = path1, schema = schema1,  number_of_nodes=number_of_nodes)\n",
    "\n",
    "\n",
    "path2 = '/home/filambr/Documents/vinted_homework/data/users/'\n",
    "schema2 = {'id': int, 'city':str,'country': str}\n",
    "table2 = Table(folder_path = path2, schema = schema2, number_of_nodes=number_of_nodes).select(['id','country'])\n",
    "\n",
    "joined_table = table1.join(table2, 'user_id', 'id').drop(['id'])\n",
    "\n",
    "filttered_table = joined_table.filter('country', 'LT')\n",
    "filttered_table.show()\n",
    "\n"
   ]
  },
  {
   "attachments": {},
   "cell_type": "markdown",
   "metadata": {},
   "source": [
    "Select and drop are implemented like this:"
   ]
  },
  {
   "cell_type": "code",
   "execution_count": 26,
   "metadata": {},
   "outputs": [
    {
     "name": "stdout",
     "output_type": "stream",
     "text": [
      "{'id': 4, 'country': 'LT'}\n",
      "{'id': 5, 'country': 'DE'}\n",
      "{'id': 6, 'country': 'DE'}\n",
      "{'id': 101, 'country': 'DE'}\n",
      "{'id': 102, 'country': 'LT'}\n",
      "______________________________\n",
      "{'date': '2017-12-20', 'user_id': 3}\n",
      "{'date': '2017-12-19', 'user_id': 3}\n",
      "{'date': '2017-12-21', 'user_id': 3}\n",
      "{'date': '2017-12-10', 'user_id': 7}\n",
      "{'date': '2017-12-12', 'user_id': 3}\n"
     ]
    }
   ],
   "source": [
    "mapreduce = MapReduce(2)\n",
    "selected = mapreduce.select(table2.data, ['id', 'country'])\n",
    "for i in range(5):\n",
    "    print(selected[i])\n",
    "\n",
    "print('______________________________')\n",
    "\n",
    "mapreduce = MapReduce(2)\n",
    "droped = mapreduce.drop(table1.data, ['click_target'])\n",
    "for i in range(5):\n",
    "    print(droped[i])"
   ]
  },
  {
   "attachments": {},
   "cell_type": "markdown",
   "metadata": {},
   "source": [
    "4. Finally lets filter out rows where 'country' is 'LT' and drop column 'country' since it will become redundant.\n"
   ]
  },
  {
   "cell_type": "code",
   "execution_count": 27,
   "metadata": {},
   "outputs": [],
   "source": [
    "filttered_table.write_to_csv('data/filtered_clicks/part-001.csv') # this will work if filtered_clicks folder is not present\n"
   ]
  },
  {
   "cell_type": "code",
   "execution_count": null,
   "metadata": {},
   "outputs": [],
   "source": []
  }
 ],
 "metadata": {
  "kernelspec": {
   "display_name": "Python 3",
   "language": "python",
   "name": "python3"
  },
  "language_info": {
   "codemirror_mode": {
    "name": "ipython",
    "version": 3
   },
   "file_extension": ".py",
   "mimetype": "text/x-python",
   "name": "python",
   "nbconvert_exporter": "python",
   "pygments_lexer": "ipython3",
   "version": "3.10.6"
  },
  "orig_nbformat": 4
 },
 "nbformat": 4,
 "nbformat_minor": 2
}
